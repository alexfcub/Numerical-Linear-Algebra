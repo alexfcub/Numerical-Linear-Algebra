{
 "cells": [
  {
   "cell_type": "markdown",
   "metadata": {},
   "source": [
    "This notebook contains implementations (not library usages) of the algorithms from Numerical Linear Algebra lectures.\n",
    "\n",
    "*Slicing is used when available, leaving for loops commented."
   ]
  },
  {
   "cell_type": "code",
   "execution_count": 339,
   "metadata": {
    "collapsed": true
   },
   "outputs": [],
   "source": [
    "import numpy as np"
   ]
  },
  {
   "cell_type": "markdown",
   "metadata": {},
   "source": [
    "## $LU$ GE No P"
   ]
  },
  {
   "cell_type": "code",
   "execution_count": 340,
   "metadata": {
    "collapsed": true
   },
   "outputs": [],
   "source": [
    "def lunpiv(A_,ptol=10**-10): #return L,U. No pivoting.\n",
    "    A = A_.copy()\n",
    "    n=A.shape[0]\n",
    "    for k in range(n-1):\n",
    "        pivot = A[k,k]\n",
    "        if abs(pivot)<ptol:\n",
    "            print('zero pivot encountered')\n",
    "            break\n",
    "        A[k+1:,k]/=pivot\n",
    "        A[k+1:,k+1:]-=np.outer(A[k+1:,k],A[k,k+1:])\n",
    "        #for i in range(k+1,n):\n",
    "        #    A[i,k]=A[i,k]/pivot\n",
    "        #    for j in range(k+1,n):\n",
    "        #        A[i,j]=A[i,j]-A[i,k]*A[k,j]\n",
    "        #A is used to store both L and U. Next we split them\n",
    "    L=np.eye(n)+np.tril(A,-1)\n",
    "    U=np.triu(A)\n",
    "    return L,U"
   ]
  },
  {
   "cell_type": "markdown",
   "metadata": {},
   "source": [
    "## $LA=B$"
   ]
  },
  {
   "cell_type": "code",
   "execution_count": 341,
   "metadata": {},
   "outputs": [
    {
     "name": "stdout",
     "output_type": "stream",
     "text": [
      "B\n",
      " [[ 0.94762644  0.23748577]\n",
      " [ 0.22951114  0.63992596]]\n",
      "L\n",
      " [[ 1.         0.       ]\n",
      " [ 0.2421958  1.       ]]\n",
      "U\n",
      " [[ 0.94762644  0.23748577]\n",
      " [ 0.          0.58240791]]\n",
      "U_s\n",
      " [[ 0.94762644  0.23748577]\n",
      " [ 0.          0.58240791]]\n"
     ]
    },
    {
     "data": {
      "text/plain": [
       "('err', 0.0)"
      ]
     },
     "execution_count": 341,
     "metadata": {},
     "output_type": "execute_result"
    }
   ],
   "source": [
    "def L_solve(L,B):\n",
    "    \"\"\"Find A so that L*A = B profiting the lower triangular structure of L.\"\"\"\n",
    "    n = L.shape[1]#number of rows of A = number of cols of L\n",
    "    m = B.shape[1]#number of cols of A = number of cols of B\n",
    "    A = np.zeros((n,m))\n",
    "    for i in range(n):\n",
    "        A[i,:]=(B[i,:]-L[i,:i].dot(A[:i,:]))/L[i,i]\n",
    "        #for j in range(m):\n",
    "        #    A[i,j]=B[i,j]\n",
    "        #    for k in range(i):\n",
    "        #        A[i,j]-=L[i,k]*A[k,j]\n",
    "        #    A[i,j]/=L[i,i]\n",
    "    return A\n",
    "\n",
    "n=2\n",
    "B = np.random.rand(n,n)\n",
    "print(\"B\\n\", B)\n",
    "L,U = lunpiv(B)\n",
    "print(\"L\\n\", L)\n",
    "print(\"U\\n\", U)\n",
    "U_s = L_solve(L,B)\n",
    "print(\"U_s\\n\", U_s)\n",
    "'err',np.max(abs(U_s-U))"
   ]
  },
  {
   "cell_type": "code",
   "execution_count": 342,
   "metadata": {},
   "outputs": [
    {
     "data": {
      "text/plain": [
       "('err', 1.1102230246251565e-16)"
      ]
     },
     "execution_count": 342,
     "metadata": {},
     "output_type": "execute_result"
    }
   ],
   "source": [
    "def U_solve(U,B):\n",
    "    \"\"\"Find A so that U*A = B profiting the upper triangular structure of U.\"\"\"\n",
    "    n = U.shape[1]#number of rows of A = number of cols of L\n",
    "    m = B.shape[1]#number of cols of A = number of cols of B\n",
    "    A = np.zeros((n,m))\n",
    "    for i in range(n-1,-1,-1):\n",
    "        A[i,:]=(B[i,:]-U[i,i+1:].dot(A[i+1:,:]))/U[i,i]\n",
    "    return A\n",
    "\n",
    "B=np.random.rand(n,n)\n",
    "A=U_solve(U,B)\n",
    "'err',np.max(abs(U.dot(A)-B))"
   ]
  },
  {
   "cell_type": "markdown",
   "metadata": {},
   "source": [
    "## $LL^T$ Cholesky"
   ]
  },
  {
   "cell_type": "code",
   "execution_count": 343,
   "metadata": {},
   "outputs": [
    {
     "name": "stdout",
     "output_type": "stream",
     "text": [
      "L\n",
      " [[ 5.  0.  0.]\n",
      " [ 3.  3.  0.]\n",
      " [-1.  1.  3.]]\n",
      "max abs err 0.0\n"
     ]
    }
   ],
   "source": [
    "def Cholesky(A):\n",
    "    n=A.shape[0]\n",
    "    L=np.zeros((n,n))\n",
    "    for j in range(n):\n",
    "        L[j,j]=np.sqrt( A[j,j]-L[j,:j].dot(L[j,:j]) )\n",
    "        #L[j,j]=A[j,j]\n",
    "        #for k in range(j):\n",
    "        #    L[j,j]-=L[j,k]*L[j,k]\n",
    "        #L[j,j]=np.sqrt(L[j,j])\n",
    "        for i in range(j+1,n):\n",
    "            L[i,j]=( A[i,j]-L[i,:j].dot(L[j,:j]) )/L[j,j]\n",
    "            #L[i,j]=A[i,j]\n",
    "            #for k in range(j):\n",
    "            #    L[i,j]-=L[i,k]*L[j,k]\n",
    "            #L[i,j]/=L[j,j]\n",
    "    return L\n",
    "A=np.array([\n",
    "[25, 15, -5],\n",
    "[15, 18,  0],\n",
    "[-5,  0,  11]])\n",
    "L = Cholesky(A)\n",
    "print('L\\n',L)\n",
    "print('max abs err',np.max(abs(L.dot(L.T)-A)))"
   ]
  },
  {
   "cell_type": "markdown",
   "metadata": {},
   "source": [
    "## LS using cholesky"
   ]
  },
  {
   "cell_type": "code",
   "execution_count": 344,
   "metadata": {},
   "outputs": [
    {
     "name": "stdout",
     "output_type": "stream",
     "text": [
      "x [[-1.  ]\n",
      " [ 0.75]]\n",
      "err 1.22474487139\n"
     ]
    }
   ],
   "source": [
    "def LS_cholesky(A,b):\n",
    "    \"\"\"Solve A^TAx=A^Tb from Ax=b\"\"\"\n",
    "    L=Cholesky(A.T.dot(A))#LLT = ATA\n",
    "    LTx = L_solve(L,A.T.dot(b))\n",
    "    x = U_solve(L.T,LTx)\n",
    "    return x\n",
    "\n",
    "A=np.array([\n",
    "    [1,2],\n",
    "    [3,4],\n",
    "    [5,6],\n",
    "])\n",
    "b=np.array([\n",
    "    [0],\n",
    "    [1],\n",
    "    [-1]\n",
    "])\n",
    "x=LS_cholesky(A,b)\n",
    "print('x',x)\n",
    "print('err',np.linalg.norm(A.dot(x)-b))"
   ]
  },
  {
   "cell_type": "markdown",
   "metadata": {},
   "source": [
    "## QR"
   ]
  },
  {
   "cell_type": "markdown",
   "metadata": {},
   "source": [
    "### QR using Gram-Schmidt"
   ]
  },
  {
   "cell_type": "code",
   "execution_count": 345,
   "metadata": {},
   "outputs": [
    {
     "name": "stdout",
     "output_type": "stream",
     "text": [
      "A\n",
      " [[1 2]\n",
      " [3 4]\n",
      " [5 6]]\n",
      "Q\n",
      " [[ 0.16903085  0.89708523]\n",
      " [ 0.50709255  0.27602622]\n",
      " [ 0.84515425 -0.34503278]]\n",
      "R\n",
      " [[ 5.91607978  7.43735744]\n",
      " [ 0.          0.82807867]]\n",
      "err 0.0\n"
     ]
    }
   ],
   "source": [
    "def QR_gs(A):\n",
    "    m,n=A.shape\n",
    "    Q=np.zeros((m,n))\n",
    "    R=np.zeros((n,n))\n",
    "    for j in range(n):\n",
    "        Q[:,j]=A[:,j]\n",
    "        for i in range(j):\n",
    "            R[i,j]=Q[:,i].T.dot(Q[:,j])\n",
    "            Q[:,j]-=R[i,j]*Q[:,i]\n",
    "        R[j,j]=np.linalg.norm(Q[:,j])\n",
    "        Q[:,j]/=R[j,j]\n",
    "    return Q,R\n",
    "\n",
    "def QR_gs(A):\n",
    "    m,n=A.shape\n",
    "    Q=np.zeros((m,n))\n",
    "    R=np.zeros((n,n))\n",
    "    for i in range(n):\n",
    "        Q[:,i]=A[:,i]\n",
    "        for j in range(i):\n",
    "            R[j,i]=Q[:,j].T.dot(Q[:,i])\n",
    "            Q[:,i]-=R[j,i]*Q[:,j]\n",
    "        R[i,i]=np.linalg.norm(Q[:,i])\n",
    "        Q[:,i]/=R[i,i]\n",
    "    return Q,R\n",
    "\n",
    "print('A\\n',A)\n",
    "Q,R=QR_gs(A)\n",
    "print('Q\\n',Q)\n",
    "print('R\\n',R)\n",
    "print('err',np.max(abs(A-Q.dot(R))))"
   ]
  },
  {
   "cell_type": "markdown",
   "metadata": {},
   "source": [
    "## LS using QR"
   ]
  },
  {
   "cell_type": "code",
   "execution_count": 346,
   "metadata": {},
   "outputs": [
    {
     "name": "stdout",
     "output_type": "stream",
     "text": [
      "x [[-1.  ]\n",
      " [ 0.75]]\n",
      "err 1.22474487139\n"
     ]
    }
   ],
   "source": [
    "def LS_qr(A,b):\n",
    "    \"\"\"Solve Ax=b with A=QR, Rx=Q^Tb\"\"\"\n",
    "    Q,R = QR_gs(A)\n",
    "    x = U_solve(R,Q.T.dot(b))\n",
    "    return x\n",
    "\n",
    "A=np.array([\n",
    "    [1,2],\n",
    "    [3,4],\n",
    "    [5,6],\n",
    "])\n",
    "b=np.array([\n",
    "    [0],\n",
    "    [1],\n",
    "    [-1]\n",
    "])\n",
    "x=LS_qr(A,b)\n",
    "print('x',x)\n",
    "print('err',np.linalg.norm(A.dot(x)-b))"
   ]
  },
  {
   "cell_type": "markdown",
   "metadata": {},
   "source": [
    "### QR using House-Holder"
   ]
  },
  {
   "cell_type": "code",
   "execution_count": 353,
   "metadata": {
    "scrolled": true
   },
   "outputs": [
    {
     "name": "stdout",
     "output_type": "stream",
     "text": [
      "A\n",
      " [[ 1 -1  4]\n",
      " [ 1  4 -2]\n",
      " [ 1  4  2]\n",
      " [ 1 -1  0]]\n",
      "x [1 1 1 1]\n",
      "u [3 1 1 1]\n",
      "i 0 n 3 m 4 P shape (4, 4)\n",
      "P [[-0.5        -0.5        -0.5        -0.5       ]\n",
      " [-0.5         0.83333333 -0.16666667 -0.16666667]\n",
      " [-0.5        -0.16666667  0.83333333 -0.16666667]\n",
      " [-0.5        -0.16666667 -0.16666667  0.83333333]]\n",
      "Q\n",
      " [[-0.5        -0.5        -0.5        -0.5       ]\n",
      " [-0.5         0.83333333 -0.16666667 -0.16666667]\n",
      " [-0.5        -0.16666667  0.83333333 -0.16666667]\n",
      " [-0.5        -0.16666667 -0.16666667  0.83333333]]\n",
      "R\n",
      " [[ -2.00000000e+00  -3.00000000e+00  -2.00000000e+00]\n",
      " [  1.11022302e-16   3.33333333e+00  -4.00000000e+00]\n",
      " [  5.55111512e-17   3.33333333e+00   5.55111512e-17]\n",
      " [  1.11022302e-16  -1.66666667e+00  -2.00000000e+00]]\n",
      "QTA is\n",
      " [[ -2.00000000e+00  -3.00000000e+00  -2.00000000e+00]\n",
      " [  1.11022302e-16   3.33333333e+00  -4.00000000e+00]\n",
      " [  5.55111512e-17   3.33333333e+00   5.55111512e-17]\n",
      " [  1.11022302e-16  -1.66666667e+00  -2.00000000e+00]]\n",
      "x [ 3.33333333  3.33333333 -1.66666667]\n",
      "u [ 8.33333333  3.33333333 -1.66666667]\n",
      "i 1 n 3 m 4 P shape (3, 3)\n",
      "P [[ 1.          0.          0.          0.        ]\n",
      " [ 0.         -0.66666667 -0.66666667  0.33333333]\n",
      " [ 0.         -0.66666667  0.73333333  0.13333333]\n",
      " [ 0.          0.33333333  0.13333333  0.93333333]]\n",
      "Q\n",
      " [[-0.5  0.5 -0.1 -0.7]\n",
      " [-0.5 -0.5 -0.7  0.1]\n",
      " [-0.5 -0.5  0.7 -0.1]\n",
      " [-0.5  0.5  0.1  0.7]]\n",
      "R\n",
      " [[ -2.00000000e+00  -3.00000000e+00  -2.00000000e+00]\n",
      " [ -7.40148683e-17  -5.00000000e+00   2.00000000e+00]\n",
      " [ -1.85037171e-17  -4.44089210e-16   2.40000000e+00]\n",
      " [  1.48029737e-16   5.55111512e-17  -3.20000000e+00]]\n",
      "QTA is\n",
      " [[ -2.00000000e+00  -3.00000000e+00  -2.00000000e+00]\n",
      " [ -1.11022302e-16  -5.00000000e+00   2.00000000e+00]\n",
      " [ -1.11022302e-16  -4.44089210e-16   2.40000000e+00]\n",
      " [  1.11022302e-16  -5.55111512e-17  -3.20000000e+00]]\n",
      "x [[ 2.4]\n",
      " [-3.2]]\n",
      "u [[ 6.4]\n",
      " [-3.2]]\n",
      "i 2 n 3 m 4 P shape (2, 2)\n",
      "P [[ 1.   0.   0.   0. ]\n",
      " [ 0.   1.   0.   0. ]\n",
      " [ 0.   0.  -0.6  0.8]\n",
      " [ 0.   0.   0.8  0.6]]\n",
      "Q\n",
      " [[-0.5  0.5 -0.5 -0.5]\n",
      " [-0.5 -0.5  0.5 -0.5]\n",
      " [-0.5 -0.5 -0.5  0.5]\n",
      " [-0.5  0.5  0.5  0.5]]\n",
      "R\n",
      " [[ -2.00000000e+00  -3.00000000e+00  -2.00000000e+00]\n",
      " [ -7.40148683e-17  -5.00000000e+00   2.00000000e+00]\n",
      " [  1.29526020e-16   3.10862447e-16  -4.00000000e+00]\n",
      " [  7.40148683e-17  -3.21964677e-16   4.44089210e-16]]\n",
      "QTA is\n",
      " [[ -2.00000000e+00  -3.00000000e+00  -2.00000000e+00]\n",
      " [ -1.11022302e-16  -5.00000000e+00   2.00000000e+00]\n",
      " [  2.22044605e-16   4.44089210e-16  -4.00000000e+00]\n",
      " [ -1.11022302e-16  -4.44089210e-16   2.22044605e-16]]\n",
      "Q\n",
      " [[-0.5  0.5 -0.5]\n",
      " [-0.5 -0.5  0.5]\n",
      " [-0.5 -0.5 -0.5]\n",
      " [-0.5  0.5  0.5]]\n",
      "R\n",
      " [[ -2.00000000e+00  -3.00000000e+00  -2.00000000e+00]\n",
      " [ -7.40148683e-17  -5.00000000e+00   2.00000000e+00]\n",
      " [  1.29526020e-16   3.10862447e-16  -4.00000000e+00]]\n",
      "err 1.7763568394e-15\n"
     ]
    }
   ],
   "source": [
    "def QR_hh(A):\n",
    "    m,n=A.shape\n",
    "    Q=np.eye(m)\n",
    "    R=A.copy()\n",
    "    def House_P(x):\n",
    "        print('x',x)\n",
    "        u=x.copy()\n",
    "        s=np.sign(x[0])\n",
    "        if s==0:\n",
    "            s=1\n",
    "        u[0]+=s*np.linalg.norm(x)\n",
    "        print('u',u)\n",
    "        return np.eye(u.shape[0])-2*np.outer(u,u)/np.dot(u.T,u)\n",
    "    for i in range(n):\n",
    "        P=House_P(R[i:,i])\n",
    "        print('i',i,'n',n,'m',m,'P shape',P.shape)\n",
    "        if P.shape[0]!=m:\n",
    "            P=np.bmat([[np.eye(i),np.zeros((i,m-i))],\n",
    "                       [np.zeros((m-i,i)),P]])\n",
    "        print('P',P)\n",
    "        Q=Q.dot(P)\n",
    "        R=P.dot(R)\n",
    "        print('Q\\n',Q)\n",
    "        print('R\\n',R)\n",
    "        print('QTA is\\n',Q.T.dot(A))\n",
    "    return Q[:,:n],R[:n,:n]\n",
    "\n",
    "B=np.array([\n",
    "    [1,-1,4],\n",
    "    [1,4,-2],\n",
    "    [1,4,2],\n",
    "    [1,-1,0]\n",
    "])\n",
    "print('A\\n',B)\n",
    "Q,R=QR_hh(B)\n",
    "print('Q\\n',Q)\n",
    "print('R\\n',R)\n",
    "print('err',np.max(abs(B-Q.dot(R))))"
   ]
  },
  {
   "cell_type": "markdown",
   "metadata": {},
   "source": [
    "### QR using Givens Rotation"
   ]
  },
  {
   "cell_type": "code",
   "execution_count": 354,
   "metadata": {
    "scrolled": true
   },
   "outputs": [
    {
     "name": "stdout",
     "output_type": "stream",
     "text": [
      "A\n",
      " [[ 1 -1  4]\n",
      " [ 1  4 -2]\n",
      " [ 1  4  2]\n",
      " [ 1 -1  0]]\n",
      "x [1 1 1 1]\n",
      "u [3 1 1 1]\n",
      "i 0 n 3 m 4 P shape (4, 4)\n",
      "P [[-0.5        -0.5        -0.5        -0.5       ]\n",
      " [-0.5         0.83333333 -0.16666667 -0.16666667]\n",
      " [-0.5        -0.16666667  0.83333333 -0.16666667]\n",
      " [-0.5        -0.16666667 -0.16666667  0.83333333]]\n",
      "Q\n",
      " [[-0.5        -0.5        -0.5        -0.5       ]\n",
      " [-0.5         0.83333333 -0.16666667 -0.16666667]\n",
      " [-0.5        -0.16666667  0.83333333 -0.16666667]\n",
      " [-0.5        -0.16666667 -0.16666667  0.83333333]]\n",
      "R\n",
      " [[ -2.00000000e+00  -3.00000000e+00  -2.00000000e+00]\n",
      " [  1.11022302e-16   3.33333333e+00  -4.00000000e+00]\n",
      " [  5.55111512e-17   3.33333333e+00   5.55111512e-17]\n",
      " [  1.11022302e-16  -1.66666667e+00  -2.00000000e+00]]\n",
      "QTA is\n",
      " [[ -2.00000000e+00  -3.00000000e+00  -2.00000000e+00]\n",
      " [  1.11022302e-16   3.33333333e+00  -4.00000000e+00]\n",
      " [  5.55111512e-17   3.33333333e+00   5.55111512e-17]\n",
      " [  1.11022302e-16  -1.66666667e+00  -2.00000000e+00]]\n",
      "x [ 3.33333333  3.33333333 -1.66666667]\n",
      "u [ 8.33333333  3.33333333 -1.66666667]\n",
      "i 1 n 3 m 4 P shape (3, 3)\n",
      "P [[ 1.          0.          0.          0.        ]\n",
      " [ 0.         -0.66666667 -0.66666667  0.33333333]\n",
      " [ 0.         -0.66666667  0.73333333  0.13333333]\n",
      " [ 0.          0.33333333  0.13333333  0.93333333]]\n",
      "Q\n",
      " [[-0.5  0.5 -0.1 -0.7]\n",
      " [-0.5 -0.5 -0.7  0.1]\n",
      " [-0.5 -0.5  0.7 -0.1]\n",
      " [-0.5  0.5  0.1  0.7]]\n",
      "R\n",
      " [[ -2.00000000e+00  -3.00000000e+00  -2.00000000e+00]\n",
      " [ -7.40148683e-17  -5.00000000e+00   2.00000000e+00]\n",
      " [ -1.85037171e-17  -4.44089210e-16   2.40000000e+00]\n",
      " [  1.48029737e-16   5.55111512e-17  -3.20000000e+00]]\n",
      "QTA is\n",
      " [[ -2.00000000e+00  -3.00000000e+00  -2.00000000e+00]\n",
      " [ -1.11022302e-16  -5.00000000e+00   2.00000000e+00]\n",
      " [ -1.11022302e-16  -4.44089210e-16   2.40000000e+00]\n",
      " [  1.11022302e-16  -5.55111512e-17  -3.20000000e+00]]\n",
      "x [[ 2.4]\n",
      " [-3.2]]\n",
      "u [[ 6.4]\n",
      " [-3.2]]\n",
      "i 2 n 3 m 4 P shape (2, 2)\n",
      "P [[ 1.   0.   0.   0. ]\n",
      " [ 0.   1.   0.   0. ]\n",
      " [ 0.   0.  -0.6  0.8]\n",
      " [ 0.   0.   0.8  0.6]]\n",
      "Q\n",
      " [[-0.5  0.5 -0.5 -0.5]\n",
      " [-0.5 -0.5  0.5 -0.5]\n",
      " [-0.5 -0.5 -0.5  0.5]\n",
      " [-0.5  0.5  0.5  0.5]]\n",
      "R\n",
      " [[ -2.00000000e+00  -3.00000000e+00  -2.00000000e+00]\n",
      " [ -7.40148683e-17  -5.00000000e+00   2.00000000e+00]\n",
      " [  1.29526020e-16   3.10862447e-16  -4.00000000e+00]\n",
      " [  7.40148683e-17  -3.21964677e-16   4.44089210e-16]]\n",
      "QTA is\n",
      " [[ -2.00000000e+00  -3.00000000e+00  -2.00000000e+00]\n",
      " [ -1.11022302e-16  -5.00000000e+00   2.00000000e+00]\n",
      " [  2.22044605e-16   4.44089210e-16  -4.00000000e+00]\n",
      " [ -1.11022302e-16  -4.44089210e-16   2.22044605e-16]]\n",
      "Q\n",
      " [[-0.5  0.5 -0.5]\n",
      " [-0.5 -0.5  0.5]\n",
      " [-0.5 -0.5 -0.5]\n",
      " [-0.5  0.5  0.5]]\n",
      "R\n",
      " [[ -2.00000000e+00  -3.00000000e+00  -2.00000000e+00]\n",
      " [ -7.40148683e-17  -5.00000000e+00   2.00000000e+00]\n",
      " [  1.29526020e-16   3.10862447e-16  -4.00000000e+00]]\n",
      "err 1.7763568394e-15\n"
     ]
    }
   ],
   "source": [
    "def QR_gr(A):\n",
    "    m,n=A.shape\n",
    "    Q=np.eye(m)\n",
    "    R=A.copy()\n",
    "    def Givens(xi,xj,i,j,m):\n",
    "        mu=np.sqrt(xi**2+xj**2)\n",
    "        cos=xi/mu\n",
    "        sin=xj/mu\n",
    "        P=np.eye(m)\n",
    "        P[i,i]=cos\n",
    "        P[i,j]=sin\n",
    "        P[j,i]=-sin\n",
    "        P[j,j]=cos\n",
    "        return P\n",
    "    for j in range(n):\n",
    "        for i in range(j+1,m):\n",
    "            print('\\ncancel entry',i+1,j+1)\n",
    "            P=Givens(R[j,j],R[i,j],j,i,m)\n",
    "            print('P',P)\n",
    "            Q=Q.dot(P.T)\n",
    "            R=P.dot(R)\n",
    "            print('Q\\n',Q)\n",
    "            print('R\\n',R)\n",
    "            print('QTA is\\n',Q.T.dot(A))        \n",
    "    return Q[:,:n],R[:n,:n]\n",
    "\n",
    "B=np.array([\n",
    "    [1,-1,4],\n",
    "    [1,4,-2],\n",
    "    [1,4,2],\n",
    "    [1,-1,0]\n",
    "])\n",
    "print('A\\n',B)\n",
    "Q,R=QR_hh(B)\n",
    "print('Q\\n',Q)\n",
    "print('R\\n',R)\n",
    "print('err',np.max(abs(B-Q.dot(R))))"
   ]
  },
  {
   "cell_type": "markdown",
   "metadata": {},
   "source": [
    "## SVD $A=U\\Sigma V^T$"
   ]
  },
  {
   "cell_type": "code",
   "execution_count": 392,
   "metadata": {},
   "outputs": [
    {
     "name": "stdout",
     "output_type": "stream",
     "text": [
      "A [[1 2]\n",
      " [3 4]\n",
      " [5 6]]\n",
      "eigenvalues AAt\n",
      " [  9.07354949e+01+0.j   2.64505087e-01+0.j  -3.00460789e-15+0.j]\n",
      "eigenvalues AtA\n",
      " [  0.26450509+0.j  90.73549491+0.j]\n",
      "U=\n",
      " [[-0.2298477  -0.88346102  0.40824829]\n",
      " [-0.52474482 -0.24078249 -0.81649658]\n",
      " [-0.81964194  0.40189603  0.40824829]]\n",
      "V^T=\n",
      " [[ 0.61962948 -0.78489445]\n",
      " [-0.78489445 -0.61962948]]\n",
      "S=\n",
      " [[ 9.52551809  0.        ]\n",
      " [ 0.          0.51430058]\n",
      " [ 0.          0.        ]]\n",
      "USVt (=A up to column change of sign)\n",
      " [[-1.  2.]\n",
      " [-3.  4.]\n",
      " [-5.  6.]]\n"
     ]
    }
   ],
   "source": [
    "from scipy import linalg as spla\n",
    "def SVD_spec(A):\n",
    "    m,n=A.shape\n",
    "    AtA=np.dot(A.T,A)\n",
    "    AAt=np.dot(A,A.T)\n",
    "        \n",
    "    vaps_AAt, veps_AAt = spla.eig(AAt,right=True)\n",
    "    vaps_AtA, veps_AtA = spla.eig(AtA,right=True)\n",
    "    print(\"eigenvalues AAt\\n\", vaps_AAt)\n",
    "    print(\"eigenvalues AtA\\n\", vaps_AtA)\n",
    "    L_AAt = np.argsort(vaps_AAt)[::-1]\n",
    "    L_AtA = np.argsort(vaps_AtA)[::-1]\n",
    "    S = np.zeros((m,n))\n",
    "    for i in range(0,n):\n",
    "        S[i,i] = np.sqrt(abs(vaps_AAt[L_AAt[i]]))\n",
    "    U = np.zeros((m,m))\n",
    "    for i in range(0,m):\n",
    "        U[i] = veps_AAt[L_AAt[i]]\n",
    "    Vt = np.zeros((n,n))\n",
    "    for i in range(0,n):\n",
    "        Vt[i] = veps_AtA[L_AtA[i]]\n",
    "    print(\"U=\\n\", U)\n",
    "    print(\"V^T=\\n\", Vt)\n",
    "    print(\"S=\\n\", S)\n",
    "    print('USVt (=A up to column change of sign)\\n',U.dot(S).dot(Vt))\n",
    "\n",
    "print('A',A)\n",
    "SVD_spec(A)"
   ]
  },
  {
   "cell_type": "markdown",
   "metadata": {},
   "source": [
    "This implementation is inefficient and just for showing, but we can relate its result to LS"
   ]
  },
  {
   "cell_type": "markdown",
   "metadata": {},
   "source": [
    "### LS using SVD"
   ]
  },
  {
   "cell_type": "code",
   "execution_count": 394,
   "metadata": {},
   "outputs": [
    {
     "name": "stdout",
     "output_type": "stream",
     "text": [
      "U\n",
      " [[-0.2298477   0.88346102  0.40824829]\n",
      " [-0.52474482  0.24078249 -0.81649658]\n",
      " [-0.81964194 -0.40189603  0.40824829]]\n",
      "s [ 9.52551809  0.51430058]\n",
      "V [[-0.61962948 -0.78489445]\n",
      " [-0.78489445  0.61962948]]\n",
      "x [[-1.  ]\n",
      " [ 0.75]]\n",
      "err 1.22474487139\n"
     ]
    }
   ],
   "source": [
    "def pseudo_inv(A):\n",
    "    m,n=A.shape\n",
    "    U,s,V=np.linalg.svd(A)\n",
    "    print('U\\n',U)\n",
    "    print('s',s)\n",
    "    print('V',V)\n",
    "    S_inv = np.zeros((m,n))\n",
    "    for i in range(n):\n",
    "        S_inv[i,i]=1/s[i]\n",
    "    return V.dot(S_inv.T).dot(U.T)\n",
    "\n",
    "def LS_svd(A,b):    \n",
    "    pseudo_inv_A = pseudo_inv(A)\n",
    "    return pseudo_inv_A.dot(b)\n",
    "\n",
    "A=np.array([\n",
    "    [1,2],\n",
    "    [3,4],\n",
    "    [5,6],\n",
    "])\n",
    "b=np.array([\n",
    "    [0],\n",
    "    [1],\n",
    "    [-1]\n",
    "])\n",
    "x=LS_svd(A,b)\n",
    "print('x',x)\n",
    "print('err',np.linalg.norm(A.dot(x)-b))"
   ]
  },
  {
   "cell_type": "markdown",
   "metadata": {},
   "source": [
    "## Power method"
   ]
  },
  {
   "cell_type": "code",
   "execution_count": 527,
   "metadata": {},
   "outputs": [
    {
     "name": "stdout",
     "output_type": "stream",
     "text": [
      "A [[1 2]\n",
      " [3 4]]\n",
      "unit eigenvector [ 0.41597356  0.90937671]\n",
      "Ax/x [ 5.37228132  5.37228132]\n",
      "eigenvalue 5.37228132326\n"
     ]
    }
   ],
   "source": [
    "def power_method(A):\n",
    "    x=np.ones(A.shape[1])\n",
    "    y=2*x\n",
    "    k=1\n",
    "    while np.linalg.norm(x-y,np.inf)>1e-10:\n",
    "        x=y\n",
    "        y=A.dot(x)\n",
    "        y/=np.linalg.norm(y)\n",
    "        k+=1\n",
    "    return x\n",
    "\n",
    "A=np.array([[1,2],[3,4]])\n",
    "print('A',A)\n",
    "x=power_method(A)\n",
    "print('unit eigenvector',x)\n",
    "print('Ax/x',A.dot(x)/x)\n",
    "print('eigenvalue',x.dot(A).dot(x))"
   ]
  },
  {
   "cell_type": "markdown",
   "metadata": {},
   "source": [
    "## Orthogonal Iteration (Schur)"
   ]
  },
  {
   "cell_type": "code",
   "execution_count": 530,
   "metadata": {},
   "outputs": [
    {
     "name": "stdout",
     "output_type": "stream",
     "text": [
      "A [[1 2]\n",
      " [3 4]]\n",
      "13 iterations\n",
      "R (schur form)\n",
      " [[ 5.37228132  1.        ]\n",
      " [ 0.         -0.37228132]]\n",
      "Q\n",
      " [[-0.41597356 -0.90937671]\n",
      " [-0.90937671  0.41597356]]\n",
      "QRQt recovers A\n",
      " [[ 1.  2.]\n",
      " [ 3.  4.]]\n"
     ]
    }
   ],
   "source": [
    "def OI(A):\n",
    "    Q=np.eye(A.shape[0])\n",
    "    R=np.eye(A.shape[0])\n",
    "    Y=A.dot(Q)\n",
    "    X=Y.copy()\n",
    "    k=1\n",
    "    while k<3 or spla.norm(Y-X,np.inf)>1e-10:\n",
    "        X=Y.copy()      \n",
    "        Y=A.dot(Q)\n",
    "        Q,R=np.linalg.qr(Y)\n",
    "        k+=1\n",
    "    print(k,'iterations')\n",
    "    return Q,R\n",
    "\n",
    "print('A',A)\n",
    "Q,R=OI(A)\n",
    "print('R (schur form)\\n',R)\n",
    "print('Q\\n',Q)\n",
    "print('QRQt recovers A\\n',Q.dot(R).dot(Q.T))"
   ]
  },
  {
   "cell_type": "markdown",
   "metadata": {},
   "source": [
    "## QR iteration"
   ]
  },
  {
   "cell_type": "code",
   "execution_count": 472,
   "metadata": {},
   "outputs": [
    {
     "name": "stdout",
     "output_type": "stream",
     "text": [
      "A [[1 2]\n",
      " [3 4]]\n",
      "283 iterations\n",
      "R\n",
      " [[ 5.37228132  1.        ]\n",
      " [ 0.         -0.37228132]]\n",
      "Q\n",
      " [[ 1.  0.]\n",
      " [-0.  1.]]\n",
      "QRQt is R\n",
      " [[ 5.37228132  1.        ]\n",
      " [ 0.         -0.37228132]]\n"
     ]
    }
   ],
   "source": [
    "def QRI(A):\n",
    "    Y=A\n",
    "    Q,R=np.zeros(n),np.zeros(n)\n",
    "    X=Y.copy()\n",
    "    k=1\n",
    "    while k<3 or spla.norm(Y-X,np.inf)>1e-10:\n",
    "        X=Y.copy()\n",
    "        Q,R=np.linalg.qr(Y)\n",
    "        Y=R.dot(Q)\n",
    "        k+=1\n",
    "    print(k,'iterations')\n",
    "    return Q,R\n",
    "\n",
    "print('A',A)\n",
    "Q,R=QRI(A)\n",
    "print('R\\n',R)\n",
    "print('Q\\n',Q)\n",
    "print('QRQt is R\\n',Q.dot(R).dot(Q.T))"
   ]
  },
  {
   "cell_type": "markdown",
   "metadata": {},
   "source": [
    "Actually this is for hessenberg..."
   ]
  },
  {
   "cell_type": "markdown",
   "metadata": {},
   "source": [
    "## Iterative Methods"
   ]
  },
  {
   "cell_type": "code",
   "execution_count": 532,
   "metadata": {},
   "outputs": [],
   "source": [
    "A=np.array(\n",
    "[\n",
    "    [4,-1,-1,0],\n",
    "    [-1,4,0,-1],\n",
    "    [-1,0,4,-1],\n",
    "    [0,-1,-1,4]\n",
    "])\n",
    "b=np.array([1,2,0,1])\n",
    "n=A.shape[0]\n",
    "\n",
    "def LDU(A):\n",
    "    L=np.tril(A,-1)\n",
    "    D=np.diag(np.diag(A))\n",
    "    U=np.triu(A,1)\n",
    "    return L,D,U\n",
    "L,D,U=LDU(A)\n",
    "#print(L,'\\n',D,'\\n',U)"
   ]
  },
  {
   "cell_type": "markdown",
   "metadata": {},
   "source": [
    "### Jacobi"
   ]
  },
  {
   "cell_type": "code",
   "execution_count": 533,
   "metadata": {},
   "outputs": [
    {
     "name": "stdout",
     "output_type": "stream",
     "text": [
      "30 iterations\n",
      "x [ 0.5   0.75  0.25  0.5 ]\n",
      "|Ax-b| 1.86264514923e-09\n",
      "Spectral Radius RJ = 0.5\n",
      "Rate of convergence RJ =  0.301029995664\n"
     ]
    }
   ],
   "source": [
    "def jacobistep(A,b,x):\n",
    "    #n=A.shape[1]\n",
    "    #y=np.zeros(n)\n",
    "    #for i in range(n):\n",
    "    #    suma=0\n",
    "    #    for j in range(i):\n",
    "    #        suma+=A[i,j]*x[j]\n",
    "    #    for j in range(i+1,n):\n",
    "    #        suma+=A[i,j]*x[j]\n",
    "    #    y[i]=(b[i]-suma)/A[i,i]\n",
    "    #return y\n",
    "    ##equivalent to \n",
    "    return x+(b-np.dot(A,x))/np.diag(A)\n",
    "    \n",
    "def Jacobi(A,b,x_0):\n",
    "    nor = 1\n",
    "    k=0\n",
    "    while nor > 1e-9 and k<100:\n",
    "        x=jacobistep(A,b,x_0)\n",
    "        k = k+1\n",
    "        nor = np.linalg.norm(x-x_0)\n",
    "        x_0 = x\n",
    "    print(k,'iterations')\n",
    "    return x\n",
    "\n",
    "x_0=np.zeros(n)\n",
    "x = Jacobi(A,b,x_0)\n",
    "print('x',x)\n",
    "print('|Ax-b|',np.linalg.norm(A.dot(x)-b))\n",
    "\n",
    "R_J = np.dot(np.linalg.inv(D),L+U)\n",
    "rho = max(abs(np.linalg.eigvals(R_J)))\n",
    "print('Spectral Radius RJ =', rho)\n",
    "print('Rate of convergence RJ = ', -np.log10(rho))"
   ]
  },
  {
   "cell_type": "markdown",
   "metadata": {},
   "source": [
    "### Gauss Seidel"
   ]
  },
  {
   "cell_type": "code",
   "execution_count": 534,
   "metadata": {},
   "outputs": [
    {
     "name": "stdout",
     "output_type": "stream",
     "text": [
      "17 iterations\n",
      "x [ 0.5   0.75  0.25  0.5 ]\n",
      "|Ax-b| 2.77823464305e-10\n",
      "Spectral Radius RGS = 0.25\n",
      "Rate of convergence RGS =  0.602059991328\n"
     ]
    }
   ],
   "source": [
    "def gauss_seidelstep(A,b,x):\n",
    "    n=A.shape[1]\n",
    "    y=np.zeros(n)\n",
    "    for i in range(n):\n",
    "        suma=0\n",
    "        for j in range(i):\n",
    "            suma+=A[i,j]*y[j]\n",
    "        for j in range(i+1,n):\n",
    "            suma+=A[i,j]*x[j]\n",
    "        y[i]=(b[i]-suma)/A[i,i]\n",
    "    return y\n",
    "\n",
    "def Gauss_Seidel(A,b,x_0):\n",
    "    nor = 1\n",
    "    k=0\n",
    "    while nor > 1e-9 and k<100:\n",
    "        x = gauss_seidelstep(A,b,x_0)\n",
    "        k = k+1\n",
    "        nor = np.linalg.norm(x-x_0)\n",
    "        x_0 = x\n",
    "    print(k,'iterations')\n",
    "    return x\n",
    "\n",
    "x_0=np.zeros(n)\n",
    "x = Gauss_Seidel(A,b,x_0)\n",
    "print('x',x)\n",
    "print('|Ax-b|',np.linalg.norm(A.dot(x)-b))\n",
    "\n",
    "R_GS = np.dot(np.linalg.inv(D-L),U)\n",
    "rho = max(abs(np.linalg.eigvals(R_GS)))\n",
    "print('Spectral Radius RGS =', rho)\n",
    "print('Rate of convergence RGS = ', -np.log10(rho))"
   ]
  },
  {
   "cell_type": "markdown",
   "metadata": {},
   "source": [
    "### SOR(w)"
   ]
  },
  {
   "cell_type": "code",
   "execution_count": 524,
   "metadata": {},
   "outputs": [
    {
     "name": "stdout",
     "output_type": "stream",
     "text": [
      "59 iterations\n",
      "x [ 0.5   0.75  0.25  0.5 ]\n",
      "|Ax-b| 3.78450073651e-09\n",
      "Spectral Radius RGS = 0.710767582704\n",
      "Rate of convergence RGS =  0.148272388089\n"
     ]
    }
   ],
   "source": [
    "def SORstep(A,b,x,w):\n",
    "    n=A.shape[1]\n",
    "    y=np.zeros(n)\n",
    "    for i in range(0,n):\n",
    "        suma=0\n",
    "        for j in range(0,i):\n",
    "            suma=suma+A[i,j]*y[j]\n",
    "        for j in range(i+1,n):\n",
    "            suma=suma+A[i,j]*x[j]\n",
    "        y[i] = (1-w)*x[i]+w*(b[i]-suma)/A[i,i]\n",
    "    #y = (1-w)*x + w*gauss_seidelstep(A,b,x) #not the same, recursion on i, not parallelism\n",
    "    return y\n",
    "\n",
    "def SOR(A,b,x_0,w):\n",
    "    nor = 1\n",
    "    k=0\n",
    "    while nor > 1e-9 and k<100:\n",
    "        x = SORstep(A,b,x_0,w)\n",
    "        k = k+1\n",
    "        nor = np.linalg.norm(x-x_0)\n",
    "        x_0 = x\n",
    "    print(k,'iterations')\n",
    "    return x\n",
    "\n",
    "w = 0.5\n",
    "x_0=np.zeros(n)\n",
    "x = SOR(A,b,x_0,w)\n",
    "print('x',x)\n",
    "print('|Ax-b|',np.linalg.norm(A.dot(x)-b))\n",
    "\n",
    "R_SOR = np.dot(np.linalg.inv(D-w*L),((1-w)*D + w*U))\n",
    "rho = max(abs(np.linalg.eigvals(R_SOR)))\n",
    "print('Spectral Radius RGS =', rho)\n",
    "print('Rate of convergence RGS = ', -np.log10(rho))"
   ]
  }
 ],
 "metadata": {
  "kernelspec": {
   "display_name": "Python 3",
   "language": "python",
   "name": "python3"
  },
  "language_info": {
   "codemirror_mode": {
    "name": "ipython",
    "version": 3
   },
   "file_extension": ".py",
   "mimetype": "text/x-python",
   "name": "python",
   "nbconvert_exporter": "python",
   "pygments_lexer": "ipython3",
   "version": "3.6.1"
  }
 },
 "nbformat": 4,
 "nbformat_minor": 2
}
